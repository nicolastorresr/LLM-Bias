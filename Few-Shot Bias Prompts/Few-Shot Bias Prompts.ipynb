{
 "cells": [
  {
   "cell_type": "code",
   "execution_count": null,
   "id": "63692ac4-888b-4db1-ab84-83eadedb53f2",
   "metadata": {},
   "outputs": [],
   "source": [
    "import pandas as pd\n",
    "import openai"
   ]
  },
  {
   "cell_type": "code",
   "execution_count": null,
   "id": "a39faf71-8b7c-456d-9704-8844e1e04001",
   "metadata": {},
   "outputs": [],
   "source": [
    "openai.api_key = \"Ingresar api_key\""
   ]
  },
  {
   "cell_type": "code",
   "execution_count": null,
   "id": "ac8fa4f0-6518-4649-971c-5ff975b233fe",
   "metadata": {},
   "outputs": [],
   "source": [
    "def gpt4o(prompt, max_tokens = 300):\n",
    "    response = openai.ChatCompletion.create(\n",
    "        model=\"gpt-4o-mini\",\n",
    "        messages=[\n",
    "            {\n",
    "                \"role\": \"user\",\n",
    "                \"content\": [\n",
    "                    {\"type\": \"text\", \"text\": prompt}\n",
    "                ],\n",
    "            }\n",
    "        ],\n",
    "        max_tokens=max_tokens,\n",
    "    )\n",
    "\n",
    "    return response"
   ]
  },
  {
   "cell_type": "code",
   "execution_count": null,
   "id": "4d7d8f93-ba40-4828-860e-a4fbd3e80efb",
   "metadata": {},
   "outputs": [],
   "source": [
    "def duplicar_filas(df):\n",
    "    duplicado = pd.DataFrame(df.loc[df.index.repeat(10)].reset_index(drop=True))\n",
    "    return duplicado\n",
    "\n",
    "def procesar_prompts_desde_csv(df, csv_out):\n",
    "    print(df)\n",
    "    prompts = df.iloc[:, 0]\n",
    "    respuestas = []\n",
    "    for prompt in prompts:\n",
    "        respuesta = gpt4o(prompt)\n",
    "        respuestas.append(respuesta['choices'][0]['message']['content'].strip())\n",
    "    df['response'] = respuestas\n",
    "    df.to_csv(csv_out, index=False, sep=\";\", quoting=1, encoding=\"UTF-8\") \n",
    "\n",
    "    print(f'Las respuestas se han guardado en \"{csv_out}\"')\n",
    "\n",
    "def Few_Shot_Bias_Prompts(csv_in, csv_out):\n",
    "    df_original = pd.read_csv(csv_in, delimiter=\";\", quoting=1)\n",
    "\n",
    "    df_duplicado = duplicar_filas(df_original)\n",
    "    \n",
    "    procesar_prompts_desde_csv(df_duplicado, csv_out)"
   ]
  },
  {
   "cell_type": "code",
   "execution_count": null,
   "id": "c3199b9a-186b-4b4f-a90d-a542dcb3a3d1",
   "metadata": {},
   "outputs": [],
   "source": [
    "Few_Shot_Bias_Prompts(\"Few-Shot Bias Prompts Female Injection.csv\", \"Few-Shot Bias Prompts Female Injection Responses.csv\")"
   ]
  },
  {
   "cell_type": "code",
   "execution_count": null,
   "id": "156cc351-ba78-46e9-9b6a-ad747214b580",
   "metadata": {},
   "outputs": [],
   "source": [
    "Few_Shot_Bias_Prompts(\"Few-Shot Bias Prompts Male Injection.csv\", \"Few-Shot Bias Prompts Male Injection Responses.csv\")"
   ]
  },
  {
   "cell_type": "code",
   "execution_count": null,
   "id": "b3b27f90-be08-4a45-8125-92be9644ecd4",
   "metadata": {},
   "outputs": [],
   "source": []
  }
 ],
 "metadata": {
  "kernelspec": {
   "display_name": "Python 3 (ipykernel)",
   "language": "python",
   "name": "python3"
  },
  "language_info": {
   "codemirror_mode": {
    "name": "ipython",
    "version": 3
   },
   "file_extension": ".py",
   "mimetype": "text/x-python",
   "name": "python",
   "nbconvert_exporter": "python",
   "pygments_lexer": "ipython3",
   "version": "3.11.5"
  }
 },
 "nbformat": 4,
 "nbformat_minor": 5
}
