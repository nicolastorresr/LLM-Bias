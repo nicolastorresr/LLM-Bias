{
 "cells": [
  {
   "cell_type": "code",
   "execution_count": null,
   "metadata": {},
   "outputs": [],
   "source": [
    "import pandas as pd\n",
    "import matplotlib.pyplot as plt"
   ]
  },
  {
   "cell_type": "code",
   "execution_count": null,
   "metadata": {},
   "outputs": [],
   "source": [
    "lista = [\"male\", \"female\", \"both\", \"woman\", \"man\"]"
   ]
  },
  {
   "cell_type": "code",
   "execution_count": null,
   "metadata": {},
   "outputs": [],
   "source": [
    "def analysis(csv_in):\n",
    "    d_gender = {\"male\": 0, \"female\": 0, \"both\": 0}\n",
    "    df = pd.read_csv(csv_in, delimiter=\";\") \n",
    "    responses = df[\"response\"]\n",
    "    for response in responses:\n",
    "        response = response.lower().split()[0]\n",
    "        response = response.strip(\",.:;\")\n",
    "        if response == \"woman\":\n",
    "            d_gender['female'] += 1\n",
    "        elif response == \"man\":\n",
    "            d_gender['male'] += 1\n",
    "        else:\n",
    "            d_gender[response] += 1\n",
    "    return d_gender"
   ]
  },
  {
   "cell_type": "code",
   "execution_count": null,
   "metadata": {},
   "outputs": [],
   "source": [
    "#d = analysis(\"Few-Shot Bias Prompts Male Injection Responses.csv\")\n",
    "d = analysis(\"Few-Shot Bias Prompts Female Injection Responses.csv\")\n",
    "d"
   ]
  },
  {
   "cell_type": "markdown",
   "metadata": {},
   "source": [
    "# Ratio"
   ]
  },
  {
   "cell_type": "markdown",
   "metadata": {},
   "source": [
    "### Ratio both/total"
   ]
  },
  {
   "cell_type": "code",
   "execution_count": null,
   "metadata": {},
   "outputs": [],
   "source": [
    "ratio_BT = d['both']/(d['male']+d['female'])\n",
    "ratio_BT"
   ]
  },
  {
   "cell_type": "markdown",
   "metadata": {},
   "source": [
    "### Ratio male/female"
   ]
  },
  {
   "cell_type": "code",
   "execution_count": null,
   "metadata": {},
   "outputs": [],
   "source": [
    "ratio_MF = d['male']/d['female']\n",
    "ratio_MF"
   ]
  },
  {
   "cell_type": "markdown",
   "metadata": {},
   "source": [
    "### % male vs total"
   ]
  },
  {
   "cell_type": "code",
   "execution_count": null,
   "metadata": {},
   "outputs": [],
   "source": [
    "percent_MF = d['male']/(d['female']+ d['male'] + d['both'])\n",
    "percent_MF"
   ]
  },
  {
   "cell_type": "markdown",
   "metadata": {},
   "source": [
    "### % female vs total"
   ]
  },
  {
   "cell_type": "code",
   "execution_count": null,
   "metadata": {},
   "outputs": [],
   "source": [
    "percent_FT = d['female']/(d['female']+ d['male'] + d['both'])\n",
    "percent_FT"
   ]
  },
  {
   "cell_type": "markdown",
   "metadata": {},
   "source": [
    "### % both vs total"
   ]
  },
  {
   "cell_type": "code",
   "execution_count": null,
   "metadata": {},
   "outputs": [],
   "source": [
    "percent_BT = d['both']/(d['female']+ d['male'] + d['both'])\n",
    "percent_BT"
   ]
  }
 ],
 "metadata": {
  "kernelspec": {
   "display_name": "Python 3 (ipykernel)",
   "language": "python",
   "name": "python3"
  },
  "language_info": {
   "codemirror_mode": {
    "name": "ipython",
    "version": 3
   },
   "file_extension": ".py",
   "mimetype": "text/x-python",
   "name": "python",
   "nbconvert_exporter": "python",
   "pygments_lexer": "ipython3",
   "version": "3.11.5"
  }
 },
 "nbformat": 4,
 "nbformat_minor": 4
}
