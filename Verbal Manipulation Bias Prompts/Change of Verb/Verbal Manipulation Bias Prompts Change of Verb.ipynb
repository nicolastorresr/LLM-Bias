{
 "cells": [
  {
   "cell_type": "code",
   "execution_count": null,
   "id": "63692ac4-888b-4db1-ab84-83eadedb53f2",
   "metadata": {},
   "outputs": [],
   "source": [
    "import pandas as pd\n",
    "import openai"
   ]
  },
  {
   "cell_type": "code",
   "execution_count": null,
   "id": "a39faf71-8b7c-456d-9704-8844e1e04001",
   "metadata": {},
   "outputs": [],
   "source": [
    "openai.api_key = api_key"
   ]
  },
  {
   "cell_type": "code",
   "execution_count": null,
   "id": "ac8fa4f0-6518-4649-971c-5ff975b233fe",
   "metadata": {},
   "outputs": [],
   "source": [
    "def gpt4o(prompt, max_tokens = 300):\n",
    "    response = openai.ChatCompletion.create(\n",
    "        model=\"gpt-4o-mini\",\n",
    "        messages=[\n",
    "            {\n",
    "                \"role\": \"user\",\n",
    "                \"content\": [\n",
    "                    {\"type\": \"text\", \"text\": prompt}\n",
    "                ],\n",
    "            }\n",
    "        ],\n",
    "        max_tokens=max_tokens,\n",
    "    )\n",
    "\n",
    "    return response"
   ]
  },
  {
   "cell_type": "code",
   "execution_count": null,
   "id": "4d7d8f93-ba40-4828-860e-a4fbd3e80efb",
   "metadata": {},
   "outputs": [],
   "source": [
    "def duplicar_filas(df):\n",
    "    duplicado = pd.DataFrame(df.loc[df.index.repeat(10)].reset_index(drop=True))\n",
    "    return duplicado\n",
    "\n",
    "def procesar_prompts_desde_csv(df, csv_out):\n",
    "    prompts = df.iloc[:, 0]\n",
    "    respuestas = []\n",
    "    for prompt in prompts:\n",
    "        respuesta = gpt4o(prompt)\n",
    "        respuestas.append(respuesta['choices'][0]['message']['content'].strip())\n",
    "    df['response'] = respuestas\n",
    "    df.to_csv(csv_out, index=False, sep=\";\", quoting=1, encoding=\"UTF-8\") \n",
    "\n",
    "def Change_of_Verb(csv_in, csv_out):\n",
    "    df_original = pd.read_csv(csv_in, delimiter=\";\", quoting=1)\n",
    "    df_duplicado = duplicar_filas(df_original)\n",
    "    procesar_prompts_desde_csv(df_duplicado, csv_out)"
   ]
  },
  {
   "cell_type": "code",
   "execution_count": null,
   "id": "c3199b9a-186b-4b4f-a90d-a542dcb3a3d1",
   "metadata": {},
   "outputs": [],
   "source": [
    "Change_of_Verb(\"Child Care Provider Prompts.csv\", \"Child Care Provider Prompts Responses.csv\")"
   ]
  },
  {
   "cell_type": "code",
   "execution_count": null,
   "id": "b3b27f90-be08-4a45-8125-92be9644ecd4",
   "metadata": {},
   "outputs": [],
   "source": [
    "Change_of_Verb(\"Construction Worker Prompts.csv\", \"Construction Worker Prompts Responses.csv\")"
   ]
  },
  {
   "cell_type": "code",
   "execution_count": null,
   "id": "be2a39e9-1351-4cd5-b65c-ee2a25ec19f1",
   "metadata": {},
   "outputs": [],
   "source": [
    "Change_of_Verb(\"Electrician Prompts.csv\", \"Electrician Prompts Responses.csv\")"
   ]
  },
  {
   "cell_type": "code",
   "execution_count": null,
   "id": "21cdd7f9-a969-4459-8dfa-f98650ff9c23",
   "metadata": {},
   "outputs": [],
   "source": [
    "Change_of_Verb(\"Engineer Prompts.csv\", \"Engineer Prompts Responses.csv\")"
   ]
  },
  {
   "cell_type": "code",
   "execution_count": null,
   "id": "80bd94f5-0b05-43be-a5c0-e8342c35dfef",
   "metadata": {},
   "outputs": [],
   "source": [
    "Change_of_Verb(\"Librarian Prompts.csv\", \"Librarian Prompts Responses.csv\")"
   ]
  },
  {
   "cell_type": "code",
   "execution_count": null,
   "id": "33bb8b0e-1c29-46ce-bb26-6c1ba68b7638",
   "metadata": {},
   "outputs": [],
   "source": [
    "Change_of_Verb(\"Mechanic Prompts.csv\", \"Mechanic Prompts Responses.csv\")"
   ]
  },
  {
   "cell_type": "code",
   "execution_count": null,
   "id": "e1faaf1c-fdbe-4c2a-b7c0-1bace211c9ef",
   "metadata": {},
   "outputs": [],
   "source": [
    "Change_of_Verb(\"Nurse Prompts.csv\", \"Nurse Prompts Responses.csv\")"
   ]
  },
  {
   "cell_type": "code",
   "execution_count": null,
   "id": "6ddc6238-0db1-415c-82e7-e8f6b3e5235a",
   "metadata": {},
   "outputs": [],
   "source": [
    "Change_of_Verb(\"Plumber Prompts.csv\", \"Plumber Prompts Responses.csv\")"
   ]
  },
  {
   "cell_type": "code",
   "execution_count": null,
   "id": "93533c85-a8a3-4eb4-9c80-11d9cfded3db",
   "metadata": {},
   "outputs": [],
   "source": [
    "Change_of_Verb(\"Police Officer Prompts.csv\", \"Police Officer Prompts Responses.csv\")"
   ]
  },
  {
   "cell_type": "code",
   "execution_count": null,
   "id": "17c99763-9bcf-4b42-b9c8-35c7d8a18e64",
   "metadata": {},
   "outputs": [],
   "source": [
    "Change_of_Verb(\"Receptionist Prompts.csv\", \"Receptionist Prompts Responses.csv\")"
   ]
  },
  {
   "cell_type": "code",
   "execution_count": null,
   "id": "c6891503-4c91-4b10-bcda-2ac147c214a1",
   "metadata": {},
   "outputs": [],
   "source": [
    "Change_of_Verb(\"Wedding Planner Prompts.csv\", \"Wedding Planner Prompts Responses.csv\")"
   ]
  }
 ],
 "metadata": {
  "kernelspec": {
   "display_name": "Python 3 (ipykernel)",
   "language": "python",
   "name": "python3"
  },
  "language_info": {
   "codemirror_mode": {
    "name": "ipython",
    "version": 3
   },
   "file_extension": ".py",
   "mimetype": "text/x-python",
   "name": "python",
   "nbconvert_exporter": "python",
   "pygments_lexer": "ipython3",
   "version": "3.11.5"
  }
 },
 "nbformat": 4,
 "nbformat_minor": 5
}
