{
 "cells": [
  {
   "cell_type": "code",
   "execution_count": null,
   "metadata": {},
   "outputs": [],
   "source": [
    "#!pip install openai==0.28.1"
   ]
  },
  {
   "cell_type": "code",
   "execution_count": 2,
   "metadata": {},
   "outputs": [],
   "source": [
    "import openai\n",
    "import csv\n",
    "import json\n",
    "import os\n",
    "from dotenv import load_dotenv"
   ]
  },
  {
   "cell_type": "code",
   "execution_count": 3,
   "metadata": {},
   "outputs": [],
   "source": [
    "def gpt4o(prompt,url, max_tokens=300):\n",
    "    response = openai.ChatCompletion.create(\n",
    "        model=\"gpt-4o\",\n",
    "        messages=[\n",
    "            {\n",
    "                \"role\": \"user\",\n",
    "                \"content\": [\n",
    "                    {\"type\": \"text\", \"text\": prompt},\n",
    "                    {\n",
    "                        \"type\": \"image_url\",\n",
    "                        \"image_url\": {\n",
    "                            \"url\": url,\n",
    "                        },\n",
    "                    },\n",
    "                ],\n",
    "            }\n",
    "        ],\n",
    "        max_tokens=max_tokens,\n",
    "    )\n",
    "\n",
    "    return response"
   ]
  },
  {
   "cell_type": "code",
   "execution_count": 4,
   "metadata": {},
   "outputs": [],
   "source": [
    "load_dotenv()\n",
    "openai.api_key = os.getenv('API_KEY')"
   ]
  },
  {
   "cell_type": "code",
   "execution_count": 5,
   "metadata": {},
   "outputs": [],
   "source": [
    "def correct_art(adjetivo):\n",
    "    return 'an' if adjetivo[0].lower() in 'aeiou' else 'a'"
   ]
  },
  {
   "cell_type": "code",
   "execution_count": null,
   "metadata": {},
   "outputs": [],
   "source": [
    "def toCSV(input_csv):\n",
    "    with open('professions_results.csv', 'a', newline='', encoding='utf-8') as output_file:\n",
    "        csvwriter = csv.writer(output_file, delimiter=';')\n",
    "        csvwriter.writerow(['Profession', 'Prompt', 'URL_Woman', 'URL_Man', 'mssgWoman', 'mssgMan'])\n",
    "        with open(input_csv, 'r', newline='', encoding='utf-8') as input_file:\n",
    "            csvreader = csv.DictReader(input_file, delimiter=',')\n",
    "            for row in csvreader:\n",
    "                profession = row['Profession']\n",
    "                prompt = row['Prompt']\n",
    "                urlW = row['URLwoman']\n",
    "                urlM = row['URLman']\n",
    "                for _ in range(10):\n",
    "                    responseW = gpt4o(prompt, urlW)  \n",
    "                    responseM = gpt4o(prompt, urlM)\n",
    "                    for choiceW, choiceM in zip(responseW.choices, responseM.choices):\n",
    "                        message_content_W = choiceW['message']['content']\n",
    "                        message_content_M = choiceM['message']['content']\n",
    "                        row_output = [profession, prompt, urlW, urlM, message_content_W, message_content_M]\n",
    "                        csvwriter.writerow(row_output)\n",
    "                        print(f\"Woman: {message_content_W}\\n\")\n",
    "                        print(f\"Man: {message_content_M}\\n\")\n"
   ]
  },
  {
   "cell_type": "code",
   "execution_count": 21,
   "metadata": {},
   "outputs": [],
   "source": [
    "def toCSVTest(input_csv):\n",
    "    with open('professions_results_test.csv', 'a', newline='', encoding='utf-8') as output_file:\n",
    "        csvwriter = csv.writer(output_file, delimiter=';')\n",
    "        csvwriter.writerow(['Profession', 'Prompt', 'URL_Woman', 'URL_Man', 'mssgWoman', 'mssgMan'])\n",
    "        with open(input_csv, 'r', newline='', encoding='utf-8') as input_file:\n",
    "            csvreader = csv.DictReader(input_file, delimiter=',')\n",
    "            #Only first row\n",
    "            first_row = next(csvreader)\n",
    "            profession = first_row['Profession']\n",
    "            prompt = first_row['Prompt']\n",
    "            urlW = first_row['URLwoman']\n",
    "            urlM = first_row['URLman']\n",
    "            #2 iterations\n",
    "            for _ in range(2):\n",
    "                responseW = gpt4o(prompt, urlW)  \n",
    "                responseM = gpt4o(prompt, urlM)\n",
    "                for choiceW, choiceM in zip(responseW.choices, responseM.choices):\n",
    "                    message_content_W = choiceW['message']['content']\n",
    "                    message_content_M = choiceM['message']['content']\n",
    "                    row_output = [profession, prompt, urlW, urlM, message_content_W, message_content_M]\n",
    "                    csvwriter.writerow(row_output)\n",
    "                    print(f\"Woman: {message_content_W}\\n\")\n",
    "                    print(f\"Man: {message_content_M}\\n\")\n",
    "\n"
   ]
  },
  {
   "cell_type": "code",
   "execution_count": null,
   "metadata": {},
   "outputs": [],
   "source": [
    "toCSVTest('Prompts for Visual Bias in Professions.csv')"
   ]
  },
  {
   "cell_type": "code",
   "execution_count": null,
   "metadata": {},
   "outputs": [],
   "source": [
    "toCSV('Prompts for Visual Bias in Professions.csv')"
   ]
  }
 ],
 "metadata": {
  "kernelspec": {
   "display_name": "base",
   "language": "python",
   "name": "python3"
  },
  "language_info": {
   "codemirror_mode": {
    "name": "ipython",
    "version": 3
   },
   "file_extension": ".py",
   "mimetype": "text/x-python",
   "name": "python",
   "nbconvert_exporter": "python",
   "pygments_lexer": "ipython3",
   "version": "3.12.4"
  }
 },
 "nbformat": 4,
 "nbformat_minor": 2
}
