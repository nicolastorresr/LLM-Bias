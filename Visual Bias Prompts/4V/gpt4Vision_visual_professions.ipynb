{
 "cells": [
  {
   "cell_type": "code",
   "execution_count": null,
   "metadata": {},
   "outputs": [],
   "source": [
    "#!pip install openai==0.28.1"
   ]
  },
  {
   "cell_type": "code",
   "execution_count": 2,
   "metadata": {},
   "outputs": [],
   "source": [
    "import openai\n",
    "import csv\n",
    "import json\n",
    "import os\n",
    "from dotenv import load_dotenv"
   ]
  },
  {
   "cell_type": "code",
   "execution_count": 3,
   "metadata": {},
   "outputs": [],
   "source": [
    "def gpt4o(prompt,url, max_tokens=300):\n",
    "    response = openai.ChatCompletion.create(\n",
    "        model=\"gpt-4-vision-preview\",\n",
    "        messages=[\n",
    "            {\n",
    "                \"role\": \"user\",\n",
    "                \"content\": [\n",
    "                    {\"type\": \"text\", \"text\": prompt},\n",
    "                    {\n",
    "                        \"type\": \"image_url\",\n",
    "                        \"image_url\": {\n",
    "                            \"url\": url,\n",
    "                        },\n",
    "                    },\n",
    "                ],\n",
    "            }\n",
    "        ],\n",
    "        max_tokens=max_tokens,\n",
    "    )\n",
    "\n",
    "    return response"
   ]
  },
  {
   "cell_type": "code",
   "execution_count": 4,
   "metadata": {},
   "outputs": [],
   "source": [
    "load_dotenv()\n",
    "openai.api_key = os.getenv('API_KEY')"
   ]
  },
  {
   "cell_type": "code",
   "execution_count": 5,
   "metadata": {},
   "outputs": [],
   "source": [
    "def correct_art(adjetivo):\n",
    "    return 'an' if adjetivo[0].lower() in 'aeiou' else 'a'"
   ]
  },
  {
   "cell_type": "code",
   "execution_count": null,
   "metadata": {},
   "outputs": [],
   "source": [
    "def toCSV(input_csv):\n",
    "    with open('professions_results.csv', 'a', newline='', encoding='utf-8') as output_file:\n",
    "        csvwriter = csv.writer(output_file, delimiter=';')\n",
    "        csvwriter.writerow(['Profession', 'Prompt', 'URL_Woman', 'URL_Man', 'mssgWoman', 'mssgMan'])\n",
    "        with open(input_csv, 'r', newline='', encoding='utf-8') as input_file:\n",
    "            csvreader = csv.DictReader(input_file, delimiter=',')\n",
    "            for row in csvreader:\n",
    "                profession = row['Profession']\n",
    "                prompt = row['Prompt']\n",
    "                urlW = row['URLwoman']\n",
    "                urlM = row['URLman']\n",
    "                for _ in range(10):\n",
    "                    responseW = gpt4o(prompt, urlW)  \n",
    "                    responseM = gpt4o(prompt, urlM)\n",
    "                    for choiceW, choiceM in zip(responseW.choices, responseM.choices):\n",
    "                        message_content_W = choiceW['message']['content']\n",
    "                        message_content_M = choiceM['message']['content']\n",
    "                        row_output = [profession, prompt, urlW, urlM, message_content_W, message_content_M]\n",
    "                        csvwriter.writerow(row_output)\n",
    "                        print(f\"Woman: {message_content_W}\\n\")\n",
    "                        print(f\"Man: {message_content_M}\\n\")\n"
   ]
  },
  {
   "cell_type": "code",
   "execution_count": 21,
   "metadata": {},
   "outputs": [],
   "source": [
    "def toCSVTest(input_csv):\n",
    "    with open('professions_results_test.csv', 'a', newline='', encoding='utf-8') as output_file:\n",
    "        csvwriter = csv.writer(output_file, delimiter=';')\n",
    "        csvwriter.writerow(['Profession', 'Prompt', 'URL_Woman', 'URL_Man', 'mssgWoman', 'mssgMan'])\n",
    "        with open(input_csv, 'r', newline='', encoding='utf-8') as input_file:\n",
    "            csvreader = csv.DictReader(input_file, delimiter=',')\n",
    "            #Only first row\n",
    "            first_row = next(csvreader)\n",
    "            profession = first_row['Profession']\n",
    "            prompt = first_row['Prompt']\n",
    "            urlW = first_row['URLwoman']\n",
    "            urlM = first_row['URLman']\n",
    "            #2 iterations\n",
    "            for _ in range(2):\n",
    "                responseW = gpt4o(prompt, urlW)  \n",
    "                responseM = gpt4o(prompt, urlM)\n",
    "                for choiceW, choiceM in zip(responseW.choices, responseM.choices):\n",
    "                    message_content_W = choiceW['message']['content']\n",
    "                    message_content_M = choiceM['message']['content']\n",
    "                    row_output = [profession, prompt, urlW, urlM, message_content_W, message_content_M]\n",
    "                    csvwriter.writerow(row_output)\n",
    "                    print(f\"Woman: {message_content_W}\\n\")\n",
    "                    print(f\"Man: {message_content_M}\\n\")\n",
    "\n"
   ]
  },
  {
   "cell_type": "code",
   "execution_count": null,
   "metadata": {},
   "outputs": [],
   "source": [
    "toCSVTest('Prompts for Visual Bias in Professions.csv')"
   ]
  },
  {
   "cell_type": "code",
   "execution_count": null,
   "metadata": {},
   "outputs": [],
   "source": [
    "toCSV('Prompts for Visual Bias in Professions.csv')"
   ]
  },
  {
   "cell_type": "code",
   "execution_count": null,
   "metadata": {},
   "outputs": [],
   "source": [
    "import pandas as pd\n",
    "import re\n",
    "import numpy as np"
   ]
  },
  {
   "cell_type": "code",
   "execution_count": null,
   "metadata": {},
   "outputs": [],
   "source": [
    "def extract_profession(message):\n",
    "    match = re.search(r'\\b(?:profession|professions|profession\\s+associated|profession\\s+that\\s+involves|profession\\s+aligns\\s+with|profession\\s+depicts)\\s+(?:with\\s+this\\s+image\\s+is\\s+|is\\s+|that\\s+|the\\s+|as\\s+a\\s+|(?:with|in|to|a|an|for|of|or|on|and|as|about|by|over|into|from|under|down|up|around|among|before|after|between|during|without|within|along|following|across|behind|beyond|plus|except|but|through|despite|towards|upon|regarding|concerning|regardless)\\s+)?(?P<profession>[A-Z][a-zA-Z]*(?:\\s+[A-Z][a-zA-Z]*)*)\\b', message, re.IGNORECASE)\n",
    "    if match:\n",
    "        return match.group('profession')\n",
    "    return ''\n"
   ]
  },
  {
   "cell_type": "code",
   "execution_count": null,
   "metadata": {},
   "outputs": [],
   "source": [
    "def extract_first_profession(message):\n",
    "    message = message.lower()\n",
    "    professions = {\n",
    "        'ballet dancer': ['ballet dancer'],\n",
    "        'office worker': ['office worker', 'customer service representative', 'customer support', 'office professional'],\n",
    "        'teacher': ['teacher', 'educator', 'professor', 'instructor'],\n",
    "        'nurse': ['healthcare professional', 'medical professional', 'healthcare professional or medical staff'],\n",
    "        'flight attendant': ['flight attendant'],\n",
    "        'doctor': ['doctor', 'medical doctor', 'physician'],\n",
    "        'electrician': ['electrician', 'electrical technician', 'electrical engineer'],\n",
    "        'mechanic': ['mechanic', 'automotive technician', 'auto mechanic'],\n",
    "        'it professional': ['it professional', 'network technician', 'data center technician'],\n",
    "        'pilot': ['pilot', 'airline pilot', 'commercial pilot'],\n",
    "        'computer programmer': ['programmer', 'software developer', 'web developer'],\n",
    "        'engineer': ['engineer', 'civil engineer', 'mechanical engineer'],\n",
    "        'chef': ['chef', 'culinary artist', 'cook'],\n",
    "        'firefighter': ['firefighter', 'rescue worker', 'fireman'],\n",
    "        'fashion designer': ['fashion designer', 'apparel designer', 'clothing designer'],\n",
    "        'scientist': ['scientist', 'researcher', 'lab technician'],\n",
    "        'reporter': ['reporter', 'journalist', 'news anchor'],\n",
    "        'dance': ['ballet dancer', 'dancer', 'dancer (ballet)', 'ballerino (male ballet dancer)'],\n",
    "        'secretary': ['office worker or customer service representative', 'customer service representative', 'office worker or customer support', 'office professional or customer service representative']\n",
    "    }\n",
    "    for prof, variants in professions.items():\n",
    "        for variant in variants:\n",
    "            if variant in message:\n",
    "                return prof\n",
    "\n",
    "    return extract_profession(message)\n"
   ]
  },
  {
   "cell_type": "code",
   "execution_count": null,
   "metadata": {},
   "outputs": [],
   "source": [
    "df = pd.read_csv('professions_results.csv', sep=';')\n",
    "df['output_woman'] = df['mssgWoman'].apply(extract_first_profession)\n",
    "df['output_man'] = df['mssgMan'].apply(extract_first_profession)\n",
    "\n",
    "df.insert(0, 'id', range(len(df)))\n",
    "result_df = df[['id', 'Profession', 'output_man', 'output_woman']]\n",
    "\n",
    "print(result_df)\n",
    "result_df.to_csv('output_4V_results.csv', index=False, sep=';')"
   ]
  }
 ],
 "metadata": {
  "kernelspec": {
   "display_name": "base",
   "language": "python",
   "name": "python3"
  },
  "language_info": {
   "codemirror_mode": {
    "name": "ipython",
    "version": 3
   },
   "file_extension": ".py",
   "mimetype": "text/x-python",
   "name": "python",
   "nbconvert_exporter": "python",
   "pygments_lexer": "ipython3",
   "version": "3.12.4"
  }
 },
 "nbformat": 4,
 "nbformat_minor": 2
}
