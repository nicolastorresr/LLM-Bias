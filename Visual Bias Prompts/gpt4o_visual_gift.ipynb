{
 "cells": [
  {
   "cell_type": "code",
   "execution_count": 2,
   "metadata": {},
   "outputs": [],
   "source": [
    "import openai\n",
    "import csv\n",
    "import json\n",
    "import os\n",
    "from dotenv import load_dotenv"
   ]
  },
  {
   "cell_type": "code",
   "execution_count": 5,
   "metadata": {},
   "outputs": [],
   "source": [
    "def gpt4o(prompt,url, max_tokens=300):\n",
    "    response = openai.ChatCompletion.create(\n",
    "        model=\"gpt-4o\",\n",
    "        messages=[\n",
    "            {\n",
    "                \"role\": \"user\",\n",
    "                \"content\": [\n",
    "                    {\"type\": \"text\", \"text\": prompt},\n",
    "                    {\n",
    "                        \"type\": \"image_url\",\n",
    "                        \"image_url\": {\n",
    "                            \"url\": url,\n",
    "                        },\n",
    "                    },\n",
    "                ],\n",
    "            }\n",
    "        ],\n",
    "        max_tokens=max_tokens,\n",
    "    )\n",
    "\n",
    "    return response"
   ]
  },
  {
   "cell_type": "code",
   "execution_count": 6,
   "metadata": {},
   "outputs": [],
   "source": [
    "load_dotenv()\n",
    "openai.api_key = os.getenv('API_KEY')"
   ]
  },
  {
   "cell_type": "code",
   "execution_count": 9,
   "metadata": {},
   "outputs": [],
   "source": [
    "def toCSV(input_csv):\n",
    "    with open('gift4o_results.csv', 'a', newline='', encoding='utf-8') as output_file:\n",
    "        csvwriter = csv.writer(output_file, delimiter=';')\n",
    "        csvwriter.writerow(['Object', 'Prompt', 'URL', 'Response'])\n",
    "        with open(input_csv, 'r', newline='', encoding='utf-8') as input_file:\n",
    "            csvreader = csv.DictReader(input_file, delimiter=',')  \n",
    "            for row in csvreader:\n",
    "                obj = row['Objects']  \n",
    "                prompt = row['Prompt']  \n",
    "                url = row['URL']  \n",
    "                for _ in range(10):\n",
    "                    response = gpt4o(prompt, url)\n",
    "                    choice = response.choices[0]\n",
    "                    message_content = choice['message']['content']\n",
    "                    row_output = [obj, prompt, url, message_content]\n",
    "                    csvwriter.writerow(row_output)\n",
    "                    print(f\"Respuesta para {obj}: {message_content}\\n\")"
   ]
  },
  {
   "cell_type": "code",
   "execution_count": null,
   "metadata": {},
   "outputs": [],
   "source": [
    "toCSV('Prompts for Visual Bias in Objects.csv')"
   ]
  }
 ],
 "metadata": {
  "kernelspec": {
   "display_name": "base",
   "language": "python",
   "name": "python3"
  },
  "language_info": {
   "codemirror_mode": {
    "name": "ipython",
    "version": 3
   },
   "file_extension": ".py",
   "mimetype": "text/x-python",
   "name": "python",
   "nbconvert_exporter": "python",
   "pygments_lexer": "ipython3",
   "version": "3.12.4"
  }
 },
 "nbformat": 4,
 "nbformat_minor": 2
}
